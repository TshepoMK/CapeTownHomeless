{
 "cells": [
  {
   "cell_type": "markdown",
   "metadata": {},
   "source": [
    "**Disclaimer**\n",
    "\n",
    "* I generally don't do this but since there are some sickos out there (I hope sickos don't read python tutorials), \n",
    "* and also this publicly available data concerns the most vulnarable citizens\n",
    "* This notebook used said publicly available data for educational purpose only (City uses it for social development, that's a good place to start)\n",
    " "
   ]
  },
  {
   "cell_type": "markdown",
   "metadata": {},
   "source": [
    "##  Import packages"
   ]
  },
  {
   "cell_type": "code",
   "execution_count": 75,
   "metadata": {
    "collapsed": true
   },
   "outputs": [],
   "source": [
    "import gmplot\n",
    "import googlemaps\n",
    "import numpy as np\n",
    "import pandas as pd\n",
    "import seaborn as sns\n",
    "import matplotlib.pyplot as plt\n",
    "from IPython.display import display"
   ]
  },
  {
   "cell_type": "code",
   "execution_count": 18,
   "metadata": {
    "collapsed": false
   },
   "outputs": [],
   "source": [
    "#style.use('ggplot')\n",
    "%matplotlib inline"
   ]
  },
  {
   "cell_type": "markdown",
   "metadata": {},
   "source": [
    "## Import Data\n",
    "\n",
    "__**Background on Data**__\n",
    "\n",
    "* This data was obtained from **Cape Town Open Data Portal** available at\n",
    "https://web1.capetown.gov.za/web1/opendataportal/DatasetDetail?DatasetName=Street%20people\n",
    "\n",
    "* **Data set name:** Street people(Name as is from the website, not my handwriting)\n",
    "* **Description:** Street people enumeration survey data.The overarching aim of this research study was to enumerate and profile street persons, to understand the phenomenon of homelessness.\n",
    "* **Time coverage:** 2014 - 2015\n",
    "* **Spatial coverage:** Not spatial\n",
    "* **Subject:** Social development\n",
    "* **Update frequency:** Subject to change\n",
    "\n"
   ]
  },
  {
   "cell_type": "code",
   "execution_count": 22,
   "metadata": {
    "collapsed": false
   },
   "outputs": [
    {
     "data": {
      "text/html": [
       "<div>\n",
       "<table border=\"1\" class=\"dataframe\">\n",
       "  <thead>\n",
       "    <tr style=\"text-align: right;\">\n",
       "      <th></th>\n",
       "      <th>Object ID</th>\n",
       "      <th>ID</th>\n",
       "      <th>Capturer</th>\n",
       "      <th>Date</th>\n",
       "      <th>Page</th>\n",
       "      <th>Grid</th>\n",
       "      <th>Gender</th>\n",
       "      <th>Age</th>\n",
       "      <th>Race</th>\n",
       "      <th>What is the person doing</th>\n",
       "      <th>...</th>\n",
       "      <th>Group</th>\n",
       "      <th>Number of people in the group</th>\n",
       "      <th>Where was the person sleeping/ observed?</th>\n",
       "      <th>Street Name</th>\n",
       "      <th>Area</th>\n",
       "      <th>long</th>\n",
       "      <th>lat</th>\n",
       "      <th>Planning Suburb</th>\n",
       "      <th>Ward</th>\n",
       "      <th>Subcouncil</th>\n",
       "    </tr>\n",
       "  </thead>\n",
       "  <tbody>\n",
       "    <tr>\n",
       "      <th>0</th>\n",
       "      <td>291</td>\n",
       "      <td>G351</td>\n",
       "      <td>Melrose</td>\n",
       "      <td>12/5/2015</td>\n",
       "      <td>58</td>\n",
       "      <td>BV36</td>\n",
       "      <td>Male</td>\n",
       "      <td>26-35</td>\n",
       "      <td>Black African</td>\n",
       "      <td>Job Seeker</td>\n",
       "      <td>...</td>\n",
       "      <td>Yes</td>\n",
       "      <td>8.0</td>\n",
       "      <td>Pavement</td>\n",
       "      <td>Tinkers Pl.</td>\n",
       "      <td>Summer Greens</td>\n",
       "      <td>18.528068</td>\n",
       "      <td>-33.881379</td>\n",
       "      <td>SUMMER GREENS</td>\n",
       "      <td>4</td>\n",
       "      <td>Subcouncil 1</td>\n",
       "    </tr>\n",
       "    <tr>\n",
       "      <th>1</th>\n",
       "      <td>292</td>\n",
       "      <td>G352</td>\n",
       "      <td>Melrose</td>\n",
       "      <td>12/5/2015</td>\n",
       "      <td>58</td>\n",
       "      <td>BV36</td>\n",
       "      <td>Male</td>\n",
       "      <td>26-35</td>\n",
       "      <td>Black African</td>\n",
       "      <td>Job Seeker</td>\n",
       "      <td>...</td>\n",
       "      <td>Yes</td>\n",
       "      <td>8.0</td>\n",
       "      <td>Pavement</td>\n",
       "      <td>Tinkers Pl.</td>\n",
       "      <td>Summer Greens</td>\n",
       "      <td>18.528068</td>\n",
       "      <td>-33.881379</td>\n",
       "      <td>SUMMER GREENS</td>\n",
       "      <td>4</td>\n",
       "      <td>Subcouncil 1</td>\n",
       "    </tr>\n",
       "    <tr>\n",
       "      <th>2</th>\n",
       "      <td>293</td>\n",
       "      <td>G353</td>\n",
       "      <td>Melrose</td>\n",
       "      <td>12/5/2015</td>\n",
       "      <td>58</td>\n",
       "      <td>BV36</td>\n",
       "      <td>Male</td>\n",
       "      <td>46-55</td>\n",
       "      <td>Black African</td>\n",
       "      <td>Job Seeker</td>\n",
       "      <td>...</td>\n",
       "      <td>Yes</td>\n",
       "      <td>8.0</td>\n",
       "      <td>Pavement</td>\n",
       "      <td>Tinkers Pl.</td>\n",
       "      <td>Summer Greens</td>\n",
       "      <td>18.528068</td>\n",
       "      <td>-33.881379</td>\n",
       "      <td>SUMMER GREENS</td>\n",
       "      <td>4</td>\n",
       "      <td>Subcouncil 1</td>\n",
       "    </tr>\n",
       "    <tr>\n",
       "      <th>3</th>\n",
       "      <td>294</td>\n",
       "      <td>G354</td>\n",
       "      <td>Melrose</td>\n",
       "      <td>12/5/2015</td>\n",
       "      <td>58</td>\n",
       "      <td>BV36</td>\n",
       "      <td>Male</td>\n",
       "      <td>26-35</td>\n",
       "      <td>Black African</td>\n",
       "      <td>Job Seeker</td>\n",
       "      <td>...</td>\n",
       "      <td>Yes</td>\n",
       "      <td>8.0</td>\n",
       "      <td>Pavement</td>\n",
       "      <td>Tinkers Pl.</td>\n",
       "      <td>Summer Greens</td>\n",
       "      <td>18.528068</td>\n",
       "      <td>-33.881379</td>\n",
       "      <td>SUMMER GREENS</td>\n",
       "      <td>4</td>\n",
       "      <td>Subcouncil 1</td>\n",
       "    </tr>\n",
       "    <tr>\n",
       "      <th>4</th>\n",
       "      <td>295</td>\n",
       "      <td>G3618</td>\n",
       "      <td>Melrose</td>\n",
       "      <td>12/5/2015</td>\n",
       "      <td>58</td>\n",
       "      <td>BV 36</td>\n",
       "      <td>Male</td>\n",
       "      <td>36-45</td>\n",
       "      <td>Black African</td>\n",
       "      <td>Job Seeker</td>\n",
       "      <td>...</td>\n",
       "      <td>Yes</td>\n",
       "      <td>8.0</td>\n",
       "      <td>Pavement</td>\n",
       "      <td>Tinkers Pl.</td>\n",
       "      <td>Summer Greens</td>\n",
       "      <td>18.528068</td>\n",
       "      <td>-33.881379</td>\n",
       "      <td>SUMMER GREENS</td>\n",
       "      <td>4</td>\n",
       "      <td>Subcouncil 1</td>\n",
       "    </tr>\n",
       "  </tbody>\n",
       "</table>\n",
       "<p>5 rows × 21 columns</p>\n",
       "</div>"
      ],
      "text/plain": [
       "   Object ID     ID Capturer       Date  Page   Grid Gender    Age  \\\n",
       "0        291   G351  Melrose  12/5/2015    58   BV36   Male  26-35   \n",
       "1        292   G352  Melrose  12/5/2015    58   BV36   Male  26-35   \n",
       "2        293   G353  Melrose  12/5/2015    58   BV36   Male  46-55   \n",
       "3        294   G354  Melrose  12/5/2015    58   BV36   Male  26-35   \n",
       "4        295  G3618  Melrose  12/5/2015    58  BV 36   Male  36-45   \n",
       "\n",
       "            Race What is the person doing      ...      Group  \\\n",
       "0  Black African               Job Seeker      ...        Yes   \n",
       "1  Black African               Job Seeker      ...        Yes   \n",
       "2  Black African               Job Seeker      ...        Yes   \n",
       "3  Black African               Job Seeker      ...        Yes   \n",
       "4  Black African               Job Seeker      ...        Yes   \n",
       "\n",
       "  Number of people in the group  Where was the person sleeping/ observed?  \\\n",
       "0                           8.0                                  Pavement   \n",
       "1                           8.0                                  Pavement   \n",
       "2                           8.0                                  Pavement   \n",
       "3                           8.0                                  Pavement   \n",
       "4                           8.0                                  Pavement   \n",
       "\n",
       "   Street Name           Area       long        lat  Planning Suburb Ward  \\\n",
       "0  Tinkers Pl.  Summer Greens  18.528068 -33.881379    SUMMER GREENS    4   \n",
       "1  Tinkers Pl.  Summer Greens  18.528068 -33.881379    SUMMER GREENS    4   \n",
       "2  Tinkers Pl.  Summer Greens  18.528068 -33.881379    SUMMER GREENS    4   \n",
       "3  Tinkers Pl.  Summer Greens  18.528068 -33.881379    SUMMER GREENS    4   \n",
       "4  Tinkers Pl.  Summer Greens  18.528068 -33.881379    SUMMER GREENS    4   \n",
       "\n",
       "     Subcouncil  \n",
       "0  Subcouncil 1  \n",
       "1  Subcouncil 1  \n",
       "2  Subcouncil 1  \n",
       "3  Subcouncil 1  \n",
       "4  Subcouncil 1  \n",
       "\n",
       "[5 rows x 21 columns]"
      ]
     },
     "execution_count": 22,
     "metadata": {},
     "output_type": "execute_result"
    }
   ],
   "source": [
    "data = pd.read_excel('Street people head count 19.8.2015.xlsx', sheetname='Dataset with words')\n",
    "data.head()"
   ]
  },
  {
   "cell_type": "code",
   "execution_count": 23,
   "metadata": {
    "collapsed": false
   },
   "outputs": [
    {
     "name": "stdout",
     "output_type": "stream",
     "text": [
      "<class 'pandas.core.frame.DataFrame'>\n",
      "RangeIndex: 5844 entries, 0 to 5843\n",
      "Data columns (total 21 columns):\n",
      "Object ID                                   5844 non-null int64\n",
      "ID                                          5844 non-null object\n",
      "Capturer                                    5844 non-null object\n",
      "Date                                        5844 non-null object\n",
      "Page                                        5844 non-null int64\n",
      "Grid                                        5844 non-null object\n",
      "Gender                                      5844 non-null object\n",
      "Age                                         5841 non-null object\n",
      "Race                                        5844 non-null object\n",
      "What is the person doing                    5844 non-null object\n",
      "Job Seeker versus Living on the street      5844 non-null object\n",
      "Group                                       5844 non-null object\n",
      "Number of people in the group               5839 non-null float64\n",
      "Where was the person sleeping/ observed?    5844 non-null object\n",
      "Street Name                                 5843 non-null object\n",
      "Area                                        5843 non-null object\n",
      "long                                        5844 non-null float64\n",
      "lat                                         5844 non-null float64\n",
      "Planning Suburb                             5844 non-null object\n",
      "Ward                                        5844 non-null int64\n",
      "Subcouncil                                  5844 non-null object\n",
      "dtypes: float64(3), int64(3), object(15)\n",
      "memory usage: 958.9+ KB\n"
     ]
    }
   ],
   "source": [
    "data.info()\n",
    "\n",
    "# From initial observation it will be difficult indexing these column names becuase some of them\n",
    "# Are sentenses, so some grunt work ahead to rename the columns to shorter names"
   ]
  },
  {
   "cell_type": "code",
   "execution_count": 24,
   "metadata": {
    "collapsed": false
   },
   "outputs": [
    {
     "data": {
      "text/html": [
       "<div>\n",
       "<table border=\"1\" class=\"dataframe\">\n",
       "  <thead>\n",
       "    <tr style=\"text-align: right;\">\n",
       "      <th></th>\n",
       "      <th>Object ID</th>\n",
       "      <th>Page</th>\n",
       "      <th>Number of people in the group</th>\n",
       "      <th>long</th>\n",
       "      <th>lat</th>\n",
       "      <th>Ward</th>\n",
       "    </tr>\n",
       "  </thead>\n",
       "  <tbody>\n",
       "    <tr>\n",
       "      <th>count</th>\n",
       "      <td>5844.000000</td>\n",
       "      <td>5844.000000</td>\n",
       "      <td>5839.000000</td>\n",
       "      <td>5844.000000</td>\n",
       "      <td>5844.000000</td>\n",
       "      <td>5844.000000</td>\n",
       "    </tr>\n",
       "    <tr>\n",
       "      <th>mean</th>\n",
       "      <td>2922.500000</td>\n",
       "      <td>103.468001</td>\n",
       "      <td>3.715362</td>\n",
       "      <td>18.551001</td>\n",
       "      <td>-33.948524</td>\n",
       "      <td>56.434805</td>\n",
       "    </tr>\n",
       "    <tr>\n",
       "      <th>std</th>\n",
       "      <td>1687.161818</td>\n",
       "      <td>42.404471</td>\n",
       "      <td>4.797098</td>\n",
       "      <td>0.121475</td>\n",
       "      <td>0.100003</td>\n",
       "      <td>30.990650</td>\n",
       "    </tr>\n",
       "    <tr>\n",
       "      <th>min</th>\n",
       "      <td>1.000000</td>\n",
       "      <td>24.000000</td>\n",
       "      <td>1.000000</td>\n",
       "      <td>18.338848</td>\n",
       "      <td>-34.199626</td>\n",
       "      <td>1.000000</td>\n",
       "    </tr>\n",
       "    <tr>\n",
       "      <th>25%</th>\n",
       "      <td>1461.750000</td>\n",
       "      <td>82.000000</td>\n",
       "      <td>1.000000</td>\n",
       "      <td>18.442811</td>\n",
       "      <td>-34.031435</td>\n",
       "      <td>27.000000</td>\n",
       "    </tr>\n",
       "    <tr>\n",
       "      <th>50%</th>\n",
       "      <td>2922.500000</td>\n",
       "      <td>87.000000</td>\n",
       "      <td>2.000000</td>\n",
       "      <td>18.526474</td>\n",
       "      <td>-33.927468</td>\n",
       "      <td>62.000000</td>\n",
       "    </tr>\n",
       "    <tr>\n",
       "      <th>75%</th>\n",
       "      <td>4383.250000</td>\n",
       "      <td>141.000000</td>\n",
       "      <td>4.000000</td>\n",
       "      <td>18.629988</td>\n",
       "      <td>-33.904032</td>\n",
       "      <td>77.000000</td>\n",
       "    </tr>\n",
       "    <tr>\n",
       "      <th>max</th>\n",
       "      <td>5844.000000</td>\n",
       "      <td>205.000000</td>\n",
       "      <td>31.000000</td>\n",
       "      <td>18.927702</td>\n",
       "      <td>-33.540365</td>\n",
       "      <td>111.000000</td>\n",
       "    </tr>\n",
       "  </tbody>\n",
       "</table>\n",
       "</div>"
      ],
      "text/plain": [
       "         Object ID         Page  Number of people in the group         long  \\\n",
       "count  5844.000000  5844.000000                    5839.000000  5844.000000   \n",
       "mean   2922.500000   103.468001                       3.715362    18.551001   \n",
       "std    1687.161818    42.404471                       4.797098     0.121475   \n",
       "min       1.000000    24.000000                       1.000000    18.338848   \n",
       "25%    1461.750000    82.000000                       1.000000    18.442811   \n",
       "50%    2922.500000    87.000000                       2.000000    18.526474   \n",
       "75%    4383.250000   141.000000                       4.000000    18.629988   \n",
       "max    5844.000000   205.000000                      31.000000    18.927702   \n",
       "\n",
       "               lat         Ward  \n",
       "count  5844.000000  5844.000000  \n",
       "mean    -33.948524    56.434805  \n",
       "std       0.100003    30.990650  \n",
       "min     -34.199626     1.000000  \n",
       "25%     -34.031435    27.000000  \n",
       "50%     -33.927468    62.000000  \n",
       "75%     -33.904032    77.000000  \n",
       "max     -33.540365   111.000000  "
      ]
     },
     "execution_count": 24,
     "metadata": {},
     "output_type": "execute_result"
    }
   ],
   "source": [
    "data.describe()"
   ]
  },
  {
   "cell_type": "code",
   "execution_count": 25,
   "metadata": {
    "collapsed": false
   },
   "outputs": [
    {
     "data": {
      "text/plain": [
       "Index(['Object ID', 'ID', 'Capturer', 'Date', 'Page', 'Grid', 'Gender', 'Age',\n",
       "       'Race', 'What is the person doing',\n",
       "       'Job Seeker versus Living on the street', 'Group',\n",
       "       'Number of people in the group',\n",
       "       'Where was the person sleeping/ observed?', 'Street Name', 'Area',\n",
       "       'long', 'lat', 'Planning Suburb', 'Ward', 'Subcouncil'],\n",
       "      dtype='object')"
      ]
     },
     "execution_count": 25,
     "metadata": {},
     "output_type": "execute_result"
    }
   ],
   "source": [
    "data.columns"
   ]
  },
  {
   "cell_type": "code",
   "execution_count": 12,
   "metadata": {
    "collapsed": true
   },
   "outputs": [],
   "source": [
    "# I do not see any use for these columns, so I will start by dropping them\n",
    "data.drop(['Object ID','ID','Page', 'Grid'], axis=1, inplace=True)\n",
    "data.head(2)"
   ]
  },
  {
   "cell_type": "code",
   "execution_count": 45,
   "metadata": {
    "collapsed": false
   },
   "outputs": [
    {
     "data": {
      "text/html": [
       "<div>\n",
       "<table border=\"1\" class=\"dataframe\">\n",
       "  <thead>\n",
       "    <tr style=\"text-align: right;\">\n",
       "      <th></th>\n",
       "      <th>capturer</th>\n",
       "      <th>date</th>\n",
       "      <th>gender</th>\n",
       "      <th>age</th>\n",
       "      <th>race</th>\n",
       "      <th>p_doing</th>\n",
       "      <th>jskr_lstr</th>\n",
       "      <th>group</th>\n",
       "      <th>g_size</th>\n",
       "      <th>dwelling</th>\n",
       "      <th>str_name</th>\n",
       "      <th>area</th>\n",
       "      <th>long</th>\n",
       "      <th>lat</th>\n",
       "      <th>p_sub</th>\n",
       "      <th>ward</th>\n",
       "      <th>sub_co</th>\n",
       "    </tr>\n",
       "  </thead>\n",
       "  <tbody>\n",
       "    <tr>\n",
       "      <th>0</th>\n",
       "      <td>Melrose</td>\n",
       "      <td>12/5/2015</td>\n",
       "      <td>Male</td>\n",
       "      <td>26-35</td>\n",
       "      <td>Black African</td>\n",
       "      <td>Job Seeker</td>\n",
       "      <td>Job Seeker</td>\n",
       "      <td>Yes</td>\n",
       "      <td>8.0</td>\n",
       "      <td>Pavement</td>\n",
       "      <td>Tinkers Pl.</td>\n",
       "      <td>Summer Greens</td>\n",
       "      <td>18.528068</td>\n",
       "      <td>-33.881379</td>\n",
       "      <td>SUMMER GREENS</td>\n",
       "      <td>4</td>\n",
       "      <td>Subcouncil 1</td>\n",
       "    </tr>\n",
       "    <tr>\n",
       "      <th>1</th>\n",
       "      <td>Melrose</td>\n",
       "      <td>12/5/2015</td>\n",
       "      <td>Male</td>\n",
       "      <td>26-35</td>\n",
       "      <td>Black African</td>\n",
       "      <td>Job Seeker</td>\n",
       "      <td>Job Seeker</td>\n",
       "      <td>Yes</td>\n",
       "      <td>8.0</td>\n",
       "      <td>Pavement</td>\n",
       "      <td>Tinkers Pl.</td>\n",
       "      <td>Summer Greens</td>\n",
       "      <td>18.528068</td>\n",
       "      <td>-33.881379</td>\n",
       "      <td>SUMMER GREENS</td>\n",
       "      <td>4</td>\n",
       "      <td>Subcouncil 1</td>\n",
       "    </tr>\n",
       "  </tbody>\n",
       "</table>\n",
       "</div>"
      ],
      "text/plain": [
       "  capturer       date gender    age           race     p_doing   jskr_lstr  \\\n",
       "0  Melrose  12/5/2015   Male  26-35  Black African  Job Seeker  Job Seeker   \n",
       "1  Melrose  12/5/2015   Male  26-35  Black African  Job Seeker  Job Seeker   \n",
       "\n",
       "  group  g_size  dwelling     str_name           area       long        lat  \\\n",
       "0   Yes     8.0  Pavement  Tinkers Pl.  Summer Greens  18.528068 -33.881379   \n",
       "1   Yes     8.0  Pavement  Tinkers Pl.  Summer Greens  18.528068 -33.881379   \n",
       "\n",
       "           p_sub  ward        sub_co  \n",
       "0  SUMMER GREENS     4  Subcouncil 1  \n",
       "1  SUMMER GREENS     4  Subcouncil 1  "
      ]
     },
     "execution_count": 45,
     "metadata": {},
     "output_type": "execute_result"
    }
   ],
   "source": [
    "data.rename(columns={'Capturer': 'capturer', 'Date':'date', 'Gender':'gender', 'Age':'age', 'Race':'race',\n",
    "                     'What is the person doing':'p_doing', 'Job Seeker versus Living on the street':'jskr_lstr',\n",
    "                     'Group':'group', 'Number of people in the group':'g_size', \n",
    "                     'Where was the person sleeping/ observed?':'dwelling', \n",
    "                     'Street Name':'str_name', 'Area':'area', 'X GPS Co ordinate':'long', 'Y GPS Co ordinate':'lat', \n",
    "                     'Planning Suburb':'p_sub', 'Ward':'ward', 'Subcouncil':'sub_co'}, inplace=True)\n",
    "data.head(2)"
   ]
  },
  {
   "cell_type": "markdown",
   "metadata": {},
   "source": [
    "## Demographics Analysis"
   ]
  },
  {
   "cell_type": "code",
   "execution_count": 132,
   "metadata": {
    "collapsed": false
   },
   "outputs": [
    {
     "data": {
      "text/plain": [
       "<matplotlib.axes._subplots.AxesSubplot at 0x13a9c9f9780>"
      ]
     },
     "execution_count": 132,
     "metadata": {},
     "output_type": "execute_result"
    },
    {
     "data": {
      "image/png": "[encoded data removed]",
      "text/plain": [
       "<matplotlib.figure.Figure at 0x13aaa601828>"
      ]
     },
     "metadata": {},
     "output_type": "display_data"
    }
   ],
   "source": [
    "sns.countplot(x='capturer', data=data, hue='gender',palette='bright')"
   ]
  },
  {
   "cell_type": "markdown",
   "metadata": {},
   "source": [
    "* Before we dive deep, let's first compare the capturers' data\n",
    "* Melrose has more records for males and ties with Charlynn for females\n",
    "* It is not clear from the data how the device capturer collects data"
   ]
  },
  {
   "cell_type": "code",
   "execution_count": 133,
   "metadata": {
    "collapsed": false
   },
   "outputs": [
    {
     "data": {
      "text/plain": [
       "<matplotlib.axes._subplots.AxesSubplot at 0x13a9e8d5ef0>"
      ]
     },
     "execution_count": 133,
     "metadata": {},
     "output_type": "execute_result"
    },
    {
     "data": {
      "image/png": "[encoded data removed]",
      "text/plain": [
       "<matplotlib.figure.Figure at 0x13aaa941ba8>"
      ]
     },
     "metadata": {},
     "output_type": "display_data"
    }
   ],
   "source": [
    "sns.countplot(x='group', data=data, hue='gender',palette='bright')"
   ]
  },
  {
   "cell_type": "markdown",
   "metadata": {},
   "source": [
    "* The number for males in groups and lone rangers is 50/50\n",
    "* More women are in groups than lone rangers, which makes sense, women tend to travel in groups for security reasons"
   ]
  },
  {
   "cell_type": "code",
   "execution_count": 134,
   "metadata": {
    "collapsed": false
   },
   "outputs": [
    {
     "data": {
      "image/png": "[encoded data removed]",
      "text/plain": [
       "<matplotlib.figure.Figure at 0x13aab3c43c8>"
      ]
     },
     "metadata": {},
     "output_type": "display_data"
    }
   ],
   "source": [
    "data['age'].value_counts().plot(kind = 'bar')\n",
    "plt.show()"
   ]
  },
  {
   "cell_type": "markdown",
   "metadata": {},
   "source": [
    "* 26-45 Age group makes up 76% of documented person for both genders\n",
    "* Under 18's make up 1.8%\n",
    "* Senior citizens above 66 make up 0.14%"
   ]
  },
  {
   "cell_type": "code",
   "execution_count": 124,
   "metadata": {
    "collapsed": false
   },
   "outputs": [
    {
     "data": {
      "text/plain": [
       "<matplotlib.axes._subplots.AxesSubplot at 0x13a9b0fd2e8>"
      ]
     },
     "execution_count": 124,
     "metadata": {},
     "output_type": "execute_result"
    },
    {
     "data": {
      "image/png": "[encoded data removed]",
      "text/plain": [
       "<matplotlib.figure.Figure at 0x13a9cddf748>"
      ]
     },
     "metadata": {},
     "output_type": "display_data"
    }
   ],
   "source": [
    "sns.countplot(x='age', data=data, hue='gender',palette='bright')"
   ]
  },
  {
   "cell_type": "markdown",
   "metadata": {},
   "source": [
    "* Breaking down the age based on gender, we see that more woman who were documeted were between 26-45\n",
    "* Same applies for males\n",
    "* A fraction for under 18's, for both genders, these kids suppose to be in school by the way"
   ]
  },
  {
   "cell_type": "code",
   "execution_count": 42,
   "metadata": {
    "collapsed": false
   },
   "outputs": [
    {
     "data": {
      "image/png": "[encoded data removed]",
      "text/plain": [
       "<matplotlib.figure.Figure at 0x13a98a61b00>"
      ]
     },
     "metadata": {},
     "output_type": "display_data"
    }
   ],
   "source": [
    "data['race'].value_counts().plot(kind = 'bar')\n",
    "plt.show()"
   ]
  },
  {
   "cell_type": "markdown",
   "metadata": {},
   "source": [
    "** This is Cape Town's Population as it stands [warning: numbers are from Wikipeadia :)] **\n",
    "\n",
    "* 42.4% \"Coloured\"\n",
    "* 38.6% \"Black African\"\n",
    "* 15.7% \"White\"\n",
    "* 1.4% \"Asian or Indian\"\n",
    "* 1.9% other\n",
    "\n",
    "_Now from Data_\n",
    "\n",
    "* Coloured documented: 65.3%\n",
    "* Black African documented: 32.5%\n",
    "* White documented: 1.9%\n",
    "* Indian and Asian documented: 0.17%\n",
    "\n"
   ]
  },
  {
   "cell_type": "code",
   "execution_count": 123,
   "metadata": {
    "collapsed": false
   },
   "outputs": [
    {
     "data": {
      "text/plain": [
       "<matplotlib.axes._subplots.AxesSubplot at 0x13a9c484940>"
      ]
     },
     "execution_count": 123,
     "metadata": {},
     "output_type": "execute_result"
    },
    {
     "data": {
      "image/png": "[encoded data removed]",
      "text/plain": [
       "<matplotlib.figure.Figure at 0x13a9a5d9b38>"
      ]
     },
     "metadata": {},
     "output_type": "display_data"
    }
   ],
   "source": [
    "sns.countplot(x='race', data=data, hue='gender',palette='bright')"
   ]
  },
  {
   "cell_type": "markdown",
   "metadata": {},
   "source": [
    "* Almost a 1000 coloured women were documented"
   ]
  },
  {
   "cell_type": "code",
   "execution_count": 127,
   "metadata": {
    "collapsed": false
   },
   "outputs": [
    {
     "data": {
      "text/plain": [
       "<matplotlib.axes._subplots.AxesSubplot at 0x13a9d61eda0>"
      ]
     },
     "execution_count": 127,
     "metadata": {},
     "output_type": "execute_result"
    },
    {
     "data": {
      "image/png": "[encoded data removed]",
      "text/plain": [
       "<matplotlib.figure.Figure at 0x13a9d38f2b0>"
      ]
     },
     "metadata": {},
     "output_type": "display_data"
    }
   ],
   "source": [
    "sns.countplot(x='ward', data=data, palette='bright')"
   ]
  },
  {
   "cell_type": "markdown",
   "metadata": {},
   "source": [
    "* From the terribly squashed plot above you can see ward 77 has a higher number of recorded persons\n",
    "* So ward 77 is worth exploring"
   ]
  },
  {
   "cell_type": "code",
   "execution_count": 137,
   "metadata": {
    "collapsed": false
   },
   "outputs": [
    {
     "data": {
      "text/plain": [
       "987"
      ]
     },
     "execution_count": 137,
     "metadata": {},
     "output_type": "execute_result"
    }
   ],
   "source": [
    "max(data['ward'].value_counts())"
   ]
  },
  {
   "cell_type": "code",
   "execution_count": 138,
   "metadata": {
    "collapsed": false
   },
   "outputs": [
    {
     "data": {
      "text/html": [
       "<div>\n",
       "<table border=\"1\" class=\"dataframe\">\n",
       "  <thead>\n",
       "    <tr style=\"text-align: right;\">\n",
       "      <th></th>\n",
       "      <th>capturer</th>\n",
       "      <th>date</th>\n",
       "      <th>gender</th>\n",
       "      <th>age</th>\n",
       "      <th>race</th>\n",
       "      <th>p_doing</th>\n",
       "      <th>jskr_lstr</th>\n",
       "      <th>group</th>\n",
       "      <th>g_size</th>\n",
       "      <th>dwelling</th>\n",
       "      <th>str_name</th>\n",
       "      <th>area</th>\n",
       "      <th>long</th>\n",
       "      <th>lat</th>\n",
       "      <th>p_sub</th>\n",
       "      <th>ward</th>\n",
       "      <th>sub_co</th>\n",
       "    </tr>\n",
       "  </thead>\n",
       "  <tbody>\n",
       "    <tr>\n",
       "      <th>1295</th>\n",
       "      <td>Teboho</td>\n",
       "      <td>19/5/2015</td>\n",
       "      <td>Male</td>\n",
       "      <td>36-45</td>\n",
       "      <td>Coloured</td>\n",
       "      <td>Sleeping</td>\n",
       "      <td>Living and Sleeping on the street</td>\n",
       "      <td>Yes</td>\n",
       "      <td>25.0</td>\n",
       "      <td>Under Bridge</td>\n",
       "      <td>Buitengracht</td>\n",
       "      <td>Cape Town CBD</td>\n",
       "      <td>18.414231</td>\n",
       "      <td>-33.923283</td>\n",
       "      <td>SCHOTSCHEKLOOF</td>\n",
       "      <td>77</td>\n",
       "      <td>Subcouncil 16</td>\n",
       "    </tr>\n",
       "    <tr>\n",
       "      <th>1296</th>\n",
       "      <td>Teboho</td>\n",
       "      <td>19/5/2015</td>\n",
       "      <td>Female</td>\n",
       "      <td>36-45</td>\n",
       "      <td>Black African</td>\n",
       "      <td>Sleeping</td>\n",
       "      <td>Living and Sleeping on the street</td>\n",
       "      <td>Yes</td>\n",
       "      <td>25.0</td>\n",
       "      <td>Under Bridge</td>\n",
       "      <td>Buitengracht</td>\n",
       "      <td>Cape Town CBD</td>\n",
       "      <td>18.414231</td>\n",
       "      <td>-33.923283</td>\n",
       "      <td>SCHOTSCHEKLOOF</td>\n",
       "      <td>77</td>\n",
       "      <td>Subcouncil 16</td>\n",
       "    </tr>\n",
       "  </tbody>\n",
       "</table>\n",
       "</div>"
      ],
      "text/plain": [
       "     capturer       date  gender    age           race   p_doing  \\\n",
       "1295   Teboho  19/5/2015    Male  36-45       Coloured  Sleeping   \n",
       "1296   Teboho  19/5/2015  Female  36-45  Black African  Sleeping   \n",
       "\n",
       "                              jskr_lstr group  g_size      dwelling  \\\n",
       "1295  Living and Sleeping on the street   Yes    25.0  Under Bridge   \n",
       "1296  Living and Sleeping on the street   Yes    25.0  Under Bridge   \n",
       "\n",
       "          str_name           area       long        lat           p_sub  ward  \\\n",
       "1295  Buitengracht  Cape Town CBD  18.414231 -33.923283  SCHOTSCHEKLOOF    77   \n",
       "1296  Buitengracht  Cape Town CBD  18.414231 -33.923283  SCHOTSCHEKLOOF    77   \n",
       "\n",
       "             sub_co  \n",
       "1295  Subcouncil 16  \n",
       "1296  Subcouncil 16  "
      ]
     },
     "execution_count": 138,
     "metadata": {},
     "output_type": "execute_result"
    }
   ],
   "source": [
    "# I am creating a ward 77 separate dataframe\n",
    "ward_77 = data[data['ward']==77]\n",
    "ward_77.head(2)"
   ]
  },
  {
   "cell_type": "code",
   "execution_count": 139,
   "metadata": {
    "collapsed": false
   },
   "outputs": [
    {
     "data": {
      "image/png": "[encoded data removed]",
      "text/plain": [
       "<matplotlib.figure.Figure at 0x13a9e6248d0>"
      ]
     },
     "metadata": {},
     "output_type": "display_data"
    }
   ],
   "source": [
    "ward_77['area'].value_counts().plot(kind = 'bar')\n",
    "plt.show()"
   ]
  },
  {
   "cell_type": "markdown",
   "metadata": {},
   "source": [
    "* Cape Town CBD and Foreshore Make up the 83% of Ward 77  documented persons (820/987)\n",
    "* The rest combined make 17% [What is that word that rhymes with prioritizing again]"
   ]
  },
  {
   "cell_type": "markdown",
   "metadata": {},
   "source": [
    "## Living Dynamics"
   ]
  },
  {
   "cell_type": "code",
   "execution_count": 122,
   "metadata": {
    "collapsed": false
   },
   "outputs": [
    {
     "data": {
      "text/plain": [
       "<matplotlib.axes._subplots.AxesSubplot at 0x13a9d15cc88>"
      ]
     },
     "execution_count": 122,
     "metadata": {},
     "output_type": "execute_result"
    },
    {
     "data": {
      "image/png": "[encoded data removed]",
      "text/plain": [
       "<matplotlib.figure.Figure at 0x13a9cde5fd0>"
      ]
     },
     "metadata": {},
     "output_type": "display_data"
    }
   ],
   "source": [
    "sns.countplot(x='group', data=data, hue='gender',palette='bright')"
   ]
  },
  {
   "cell_type": "code",
   "execution_count": 117,
   "metadata": {
    "collapsed": false
   },
   "outputs": [
    {
     "data": {
      "image/png": "[encoded data removed]",
      "text/plain": [
       "<matplotlib.figure.Figure at 0x13a98f96208>"
      ]
     },
     "metadata": {},
     "output_type": "display_data"
    }
   ],
   "source": [
    "data['g_size'].value_counts().plot(kind = 'bar')\n",
    "plt.show()"
   ]
  },
  {
   "cell_type": "markdown",
   "metadata": {},
   "source": [
    "* There are more lone rangers than groups \n",
    "* Followed by two by two's\n",
    "* I think it is interesting that there is a recorded group of 25"
   ]
  },
  {
   "cell_type": "code",
   "execution_count": 121,
   "metadata": {
    "collapsed": false
   },
   "outputs": [
    {
     "data": {
      "text/plain": [
       "<matplotlib.axes._subplots.AxesSubplot at 0x13a9cb7a908>"
      ]
     },
     "execution_count": 121,
     "metadata": {},
     "output_type": "execute_result"
    },
    {
     "data": {
      "image/png": "[encoded data removed]",
      "text/plain": [
       "<matplotlib.figure.Figure at 0x13a9735ad68>"
      ]
     },
     "metadata": {},
     "output_type": "display_data"
    }
   ],
   "source": [
    "sns.countplot(x='p_doing', data=data, hue='gender',palette='bright')"
   ]
  },
  {
   "cell_type": "markdown",
   "metadata": {},
   "source": [
    "* Skarelling - Recycling plastics and boxes to make money\n",
    "* A large number of females spend their time sleeping, only a few looking for a job\n",
    "* Overall sleep seems to be more popular than othe activities that consumes energy"
   ]
  },
  {
   "cell_type": "code",
   "execution_count": 128,
   "metadata": {
    "collapsed": false
   },
   "outputs": [
    {
     "data": {
      "text/plain": [
       "<matplotlib.axes._subplots.AxesSubplot at 0x13a9a6c4828>"
      ]
     },
     "execution_count": 128,
     "metadata": {},
     "output_type": "execute_result"
    },
    {
     "data": {
      "image/png": "[encoded data removed]",
      "text/plain": [
       "<matplotlib.figure.Figure at 0x13a9ced9d30>"
      ]
     },
     "metadata": {},
     "output_type": "display_data"
    }
   ],
   "source": [
    "sns.countplot(x='jskr_lstr', data=data, hue='gender',palette='bright')"
   ]
  },
  {
   "cell_type": "markdown",
   "metadata": {},
   "source": [
    "* A big part for both male and female are permanently living on the streets\n",
    "* A small fraction of females are seeking jobs"
   ]
  },
  {
   "cell_type": "code",
   "execution_count": 130,
   "metadata": {
    "collapsed": false
   },
   "outputs": [
    {
     "data": {
      "image/png": "[encoded data removed]",
      "text/plain": [
       "<matplotlib.figure.Figure at 0x13aaa783358>"
      ]
     },
     "metadata": {},
     "output_type": "display_data"
    }
   ],
   "source": [
    "data['dwelling'].value_counts().plot(kind = 'bar')\n",
    "plt.show()"
   ]
  },
  {
   "cell_type": "markdown",
   "metadata": {},
   "source": [
    "* It is a common scene seeing people sleeping on the pavement next to building at CBD, the data confirms that\n",
    "* I also expected religious institutions for have more presence that it shows on the data"
   ]
  },
  {
   "cell_type": "markdown",
   "metadata": {},
   "source": [
    "## Geolocation and Clusters"
   ]
  },
  {
   "cell_type": "code",
   "execution_count": 56,
   "metadata": {
    "collapsed": true
   },
   "outputs": [],
   "source": [
    "gmaps = googlemaps.Client(key='')"
   ]
  },
  {
   "cell_type": "code",
   "execution_count": 57,
   "metadata": {
    "collapsed": true
   },
   "outputs": [],
   "source": [
    "gmap = gmplot.GoogleMapPlotter(-33.926379, 18.591878, 10, apikey='')"
   ]
  },
  {
   "cell_type": "code",
   "execution_count": 72,
   "metadata": {
    "collapsed": true
   },
   "outputs": [],
   "source": [
    "gmap.heatmap(data['long'], data['lat'], radius=15)"
   ]
  },
  {
   "cell_type": "code",
   "execution_count": 73,
   "metadata": {
    "collapsed": true
   },
   "outputs": [],
   "source": [
    "gmap.draw(\"mymap_2.html\")"
   ]
  },
  {
   "cell_type": "code",
   "execution_count": 74,
   "metadata": {
    "collapsed": false
   },
   "outputs": [
    {
     "data": {
      "text/html": [
       "\n",
       "        <iframe\n",
       "            width=\"720\"\n",
       "            height=\"520\"\n",
       "            src=\"mymap_2.html\"\n",
       "            frameborder=\"0\"\n",
       "            allowfullscreen\n",
       "        ></iframe>\n",
       "        "
      ],
      "text/plain": [
       "<IPython.lib.display.IFrame at 0x13a98f37f28>"
      ]
     },
     "execution_count": 74,
     "metadata": {},
     "output_type": "execute_result"
    }
   ],
   "source": [
    "from IPython.display import IFrame\n",
    "IFrame(src='mymap_2.html', width=720, height=520)"
   ]
  },
  {
   "cell_type": "markdown",
   "metadata": {},
   "source": [
    "* The dispersion heatmap confirms that Cape Town and Foreshore has a higher concentration\n",
    "* One interesting observation to make here is that the dispersion follows main roads, high traffic areas\n",
    "* And also on the outer shore line, they start from Greenpoint and head north"
   ]
  },
  {
   "cell_type": "code",
   "execution_count": 140,
   "metadata": {
    "collapsed": false
   },
   "outputs": [
    {
     "data": {
      "image/png": "[encoded data removed]",
      "text/plain": [
       "<matplotlib.figure.Figure at 0x13aa0b6acf8>"
      ]
     },
     "metadata": {},
     "output_type": "display_data"
    }
   ],
   "source": [
    "plt.figure(figsize=(12,8))\n",
    "plt.xlabel('Longitude')\n",
    "plt.ylabel('Latitude')\n",
    "plt.title('Dispersion Clusters')\n",
    "plt.scatter(data['long'], data['lat'])\n",
    "plt.show()"
   ]
  },
  {
   "cell_type": "code",
   "execution_count": 76,
   "metadata": {
    "collapsed": false
   },
   "outputs": [
    {
     "data": {
      "image/png": "[encoded data removed]",
      "text/plain": [
       "<matplotlib.figure.Figure at 0x13a972fcf60>"
      ]
     },
     "metadata": {},
     "output_type": "display_data"
    }
   ],
   "source": [
    "tlen = pd.Series(data=data['g_size'].values, index=data['date'])\n",
    "# Lengths along time:\n",
    "tlen.plot(figsize=(16,4), color='b', title='Group Sizes Over Time');"
   ]
  },
  {
   "cell_type": "markdown",
   "metadata": {},
   "source": [
    "_Group numbers over time_\n",
    "\n",
    "* From the beginning 11th of May they were lower and increase towards the 20th, as it gets colder it is wise to team up\n",
    "* And also there tends to be fire places where everybody ends up clustering around like Station Road, Woodstock"
   ]
  },
  {
   "cell_type": "code",
   "execution_count": null,
   "metadata": {
    "collapsed": true
   },
   "outputs": [],
   "source": []
  }
 ],
 "metadata": {
  "kernelspec": {
   "display_name": "Python 3",
   "language": "python",
   "name": "python3"
  },
  "language_info": {
   "codemirror_mode": {
    "name": "ipython",
    "version": 3
   },
   "file_extension": ".py",
   "mimetype": "text/x-python",
   "name": "python",
   "nbconvert_exporter": "python",
   "pygments_lexer": "ipython3",
   "version": "3.6.0"
  }
 },
 "nbformat": 4,
 "nbformat_minor": 2
}
